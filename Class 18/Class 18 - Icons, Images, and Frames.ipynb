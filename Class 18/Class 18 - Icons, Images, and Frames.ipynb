{
 "cells": [
  {
   "cell_type": "code",
   "execution_count": 3,
   "id": "55af0ed7",
   "metadata": {},
   "outputs": [],
   "source": [
    "#from tkinter import *\n",
    "\n",
    "#window=Tk()\n",
    "#window.title(\"Icons\")\n",
    "\n",
    "#var = PhotoImage(file=\"1160358.png\")\n",
    "\n",
    "#varicon = PhotoImage(file = \"223117.png\")\n",
    "\n",
    "#indow.iconphoto(False, var)\n",
    "\n",
    "#var1=Label(window, image=var)\n",
    "\n",
    "#var1.pack()\n",
    "\n",
    "#mainloop()"
   ]
  },
  {
   "cell_type": "code",
   "execution_count": 4,
   "id": "c8ad363a",
   "metadata": {},
   "outputs": [],
   "source": [
    "from tkinter import *\n",
    "\n",
    "window=Tk()\n",
    "window.title(\"Frames\")\n",
    "window.geometry(\"500x500\")\n",
    "\n",
    "f = Frame(window, bg=\"blue\", height=60, width=100)\n",
    "\n",
    "\n",
    "\n",
    "entrybox = Entry(f)\n",
    "\n",
    "f.pack()\n",
    "\n",
    "entrybox.pack()\n",
    "\n",
    "mainloop()"
   ]
  },
  {
   "cell_type": "code",
   "execution_count": null,
   "id": "507952e2",
   "metadata": {},
   "outputs": [],
   "source": []
  },
  {
   "cell_type": "code",
   "execution_count": null,
   "id": "d1b53fc5",
   "metadata": {},
   "outputs": [],
   "source": []
  }
 ],
 "metadata": {
  "kernelspec": {
   "display_name": "Python 3 (ipykernel)",
   "language": "python",
   "name": "python3"
  },
  "language_info": {
   "codemirror_mode": {
    "name": "ipython",
    "version": 3
   },
   "file_extension": ".py",
   "mimetype": "text/x-python",
   "name": "python",
   "nbconvert_exporter": "python",
   "pygments_lexer": "ipython3",
   "version": "3.9.12"
  }
 },
 "nbformat": 4,
 "nbformat_minor": 5
}

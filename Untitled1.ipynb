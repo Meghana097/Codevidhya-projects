{
 "cells": [
  {
   "cell_type": "code",
   "execution_count": 1,
   "id": "ccdf33ef",
   "metadata": {},
   "outputs": [],
   "source": [
    "f=open('practice.txt', 'w+')\n",
    "f.write('test')\n",
    "f.close()"
   ]
  },
  {
   "cell_type": "code",
   "execution_count": null,
   "id": "2066a10e",
   "metadata": {},
   "outputs": [],
   "source": [
    "import os \n",
    "os.getcwd()"
   ]
  },
  {
   "cell_type": "code",
   "execution_count": null,
   "id": "927ff2f0",
   "metadata": {},
   "outputs": [],
   "source": [
    "import shutil \n",
    "shutil.move('practice.txt','C:\\\\Users\\\\arpit')\n",
    "shutil.move('C:\\\\Users\\\\arpit\\practice.txt', os.getcwd())\n",
    "os.listdir()"
   ]
  },
  {
   "cell_type": "code",
   "execution_count": null,
   "id": "25961c5d",
   "metadata": {
    "collapsed": true
   },
   "outputs": [],
   "source": [
    "os.listdir() "
   ]
  },
  {
   "cell_type": "code",
   "execution_count": null,
   "id": "62902379",
   "metadata": {
    "collapsed": true
   },
   "outputs": [],
   "source": [
    "os.listdir(\"C:\\\\Users\")"
   ]
  },
  {
   "cell_type": "code",
   "execution_count": null,
   "id": "52b72e9c",
   "metadata": {},
   "outputs": [],
   "source": [
    "import send2trash\n",
    "os.listdir()\n",
    "send2trash.send2trash('practice.txt')\n",
    "os.listdir()"
   ]
  }
 ],
 "metadata": {
  "kernelspec": {
   "display_name": "Python 3 (ipykernel)",
   "language": "python",
   "name": "python3"
  },
  "language_info": {
   "codemirror_mode": {
    "name": "ipython",
    "version": 3
   },
   "file_extension": ".py",
   "mimetype": "text/x-python",
   "name": "python",
   "nbconvert_exporter": "python",
   "pygments_lexer": "ipython3",
   "version": "3.9.12"
  }
 },
 "nbformat": 4,
 "nbformat_minor": 5
}

{
 "cells": [
  {
   "cell_type": "code",
   "execution_count": 2,
   "id": "9b08b16d",
   "metadata": {},
   "outputs": [],
   "source": [
    "import collections "
   ]
  },
  {
   "cell_type": "code",
   "execution_count": 3,
   "id": "2e263cd7",
   "metadata": {},
   "outputs": [],
   "source": [
    "list = [8,9,3,2,1,0,2,0,1,1,8,8,8,8,8]"
   ]
  },
  {
   "cell_type": "code",
   "execution_count": 4,
   "id": "d05a06f4",
   "metadata": {},
   "outputs": [
    {
     "name": "stdout",
     "output_type": "stream",
     "text": [
      "Counter({8: 6, 1: 3, 2: 2, 0: 2, 9: 1, 3: 1})\n"
     ]
    }
   ],
   "source": [
    "print(collections.Counter(list))"
   ]
  },
  {
   "cell_type": "code",
   "execution_count": 5,
   "id": "db2ae0f5",
   "metadata": {},
   "outputs": [
    {
     "data": {
      "text/plain": [
       "Counter({'a': 4, 'b': 2, 'c': 2, 'r': 2, 'e': 2})"
      ]
     },
     "execution_count": 5,
     "metadata": {},
     "output_type": "execute_result"
    }
   ],
   "source": [
    "from collections import Counter\n",
    "\n",
    "str = \"abcabcrearea\"\n",
    "\n",
    "Counter(str)"
   ]
  },
  {
   "cell_type": "code",
   "execution_count": 23,
   "id": "0a458b73",
   "metadata": {},
   "outputs": [
    {
     "name": "stdout",
     "output_type": "stream",
     "text": [
      "03:40:32\n",
      "2023-03-05 21:03:53.755244\n",
      "Mon\n",
      "1\n",
      "01\n",
      "January\n",
      "01\n",
      "Jan\n",
      "AM\n",
      "40\n",
      "1900\n",
      "32\n",
      "Mon Jan  1 03:40:32 1900\n",
      "19\n",
      "01/01/00\n"
     ]
    }
   ],
   "source": [
    "import datetime \n",
    "\n",
    "var = datetime.time(3,40,32)\n",
    "\n",
    "print(var)\n",
    "\n",
    "print(datetime.datetime.now())\n",
    "\n",
    "var2 = datetime.datetime.now()\n",
    "\n",
    "print(var.strftime(\"%a\"))\n",
    "\n",
    "print(var.strftime(\"%w\"))\n",
    "\n",
    "print(var.strftime(\"%d\"))\n",
    "\n",
    "print(var.strftime(\"%B\"))\n",
    "\n",
    "print(var.strftime(\"%m\"))\n",
    "\n",
    "print(var.strftime(\"%h\"))\n",
    "\n",
    "print(var.strftime(\"%p\"))\n",
    "\n",
    "print(var.strftime(\"%M\"))\n",
    "\n",
    "print(var.strftime(\"%Y\"))\n",
    "\n",
    "print(var.strftime(\"%S\"))\n",
    "\n",
    "print(var.strftime(\"%c\"))\n",
    "\n",
    "print(var.strftime(\"%C\"))\n",
    "\n",
    "print(var.strftime(\"%x\"))"
   ]
  },
  {
   "cell_type": "code",
   "execution_count": 44,
   "id": "05076d5d",
   "metadata": {},
   "outputs": [
    {
     "name": "stdout",
     "output_type": "stream",
     "text": [
      "17\n",
      "2\n",
      "[2]\n",
      "[2, 3, 3, 2, 2, 3, 3, 3, 2, 3, 4, 4, 1, 4, 3, 2, 3, 3, 4, 2, 1, 1, 3, 3, 2, 2, 2, 3, 3, 3, 3, 2]\n",
      "[2, 3, 1, 4]\n"
     ]
    }
   ],
   "source": [
    "import random \n",
    "\n",
    "print(random.randrange(0,19))\n",
    "\n",
    "lsit = [1, 2, 4, 3]\n",
    "\n",
    "print(random.choice(lsit))\n",
    "print(random.choices(lsit))\n",
    "print(random.choices(lsit, weights=[2,3,4,6],k=32))\n",
    "random.shuffle(lsit)\n",
    "print(lsit)\n"
   ]
  },
  {
   "cell_type": "code",
   "execution_count": 50,
   "id": "54a14563",
   "metadata": {},
   "outputs": [
    {
     "name": "stdout",
     "output_type": "stream",
     "text": [
      "3\n",
      "3.141592653589793\n"
     ]
    }
   ],
   "source": [
    "import math\n",
    "\n",
    "var = 3.0592\n",
    "\n",
    "print(math.floor(var))\n",
    "print(math.pi)\n"
   ]
  },
  {
   "cell_type": "code",
   "execution_count": 55,
   "id": "94ac154d",
   "metadata": {},
   "outputs": [
    {
     "name": "stdout",
     "output_type": "stream",
     "text": [
      "3\n"
     ]
    }
   ],
   "source": [
    "\n",
    "print(math.gcd(3,6))"
   ]
  },
  {
   "cell_type": "code",
   "execution_count": null,
   "id": "8175eb31",
   "metadata": {},
   "outputs": [],
   "source": []
  },
  {
   "cell_type": "code",
   "execution_count": null,
   "id": "16fb0540",
   "metadata": {},
   "outputs": [],
   "source": []
  }
 ],
 "metadata": {
  "kernelspec": {
   "display_name": "Python 3 (ipykernel)",
   "language": "python",
   "name": "python3"
  },
  "language_info": {
   "codemirror_mode": {
    "name": "ipython",
    "version": 3
   },
   "file_extension": ".py",
   "mimetype": "text/x-python",
   "name": "python",
   "nbconvert_exporter": "python",
   "pygments_lexer": "ipython3",
   "version": "3.9.12"
  }
 },
 "nbformat": 4,
 "nbformat_minor": 5
}

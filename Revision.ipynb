{
 "cells": [
  {
   "cell_type": "code",
   "execution_count": 1,
   "id": "09b64c9d",
   "metadata": {},
   "outputs": [
    {
     "name": "stdout",
     "output_type": "stream",
     "text": [
      "Meghana\n"
     ]
    }
   ],
   "source": [
    "print(\"Meghana\")"
   ]
  },
  {
   "cell_type": "code",
   "execution_count": 3,
   "id": "7a116c63",
   "metadata": {},
   "outputs": [
    {
     "name": "stdout",
     "output_type": "stream",
     "text": [
      "What is your name?Meghana \n",
      "Meghana \n"
     ]
    }
   ],
   "source": [
    "a=input(\"What is your name?\")\n",
    "print(a)"
   ]
  },
  {
   "cell_type": "code",
   "execution_count": 5,
   "id": "a8a27c29",
   "metadata": {},
   "outputs": [
    {
     "name": "stdout",
     "output_type": "stream",
     "text": [
      "Please enter a number:1\n",
      "Please enter a second number:2\n",
      "3\n"
     ]
    }
   ],
   "source": [
    "b=int(input(\"Please enter a number:\"))\n",
    "c=int(input(\"Please enter a second number:\"))\n",
    "d=b+c\n",
    "print(d)"
   ]
  },
  {
   "cell_type": "code",
   "execution_count": 6,
   "id": "610cc67d",
   "metadata": {},
   "outputs": [
    {
     "name": "stdout",
     "output_type": "stream",
     "text": [
      "a\n"
     ]
    }
   ],
   "source": [
    "lst1=[1,2,3,\"a\", 4.0, 3]\n",
    "print(lst1[3])"
   ]
  },
  {
   "cell_type": "code",
   "execution_count": 14,
   "id": "9b6f823d",
   "metadata": {},
   "outputs": [
    {
     "name": "stdout",
     "output_type": "stream",
     "text": [
      "[1, 2, '3.0', 3, 'a', 4.0, 3, 'b']\n"
     ]
    }
   ],
   "source": [
    "lst1.append(\"b\")\n",
    "print(lst1)"
   ]
  },
  {
   "cell_type": "code",
   "execution_count": 15,
   "id": "9956503e",
   "metadata": {},
   "outputs": [
    {
     "name": "stdout",
     "output_type": "stream",
     "text": [
      "[1, 2, '3.0', 3, 'a', 4.0, 3]\n"
     ]
    }
   ],
   "source": [
    "lst1.pop()\n",
    "print(lst1)"
   ]
  },
  {
   "cell_type": "code",
   "execution_count": 11,
   "id": "27f93d98",
   "metadata": {},
   "outputs": [
    {
     "name": "stdout",
     "output_type": "stream",
     "text": [
      "[1, 2, '3.0', 3, 'a', 4.0, 3]\n"
     ]
    }
   ],
   "source": [
    "lst1.insert(2,\"3.0\")\n",
    "print(lst1)"
   ]
  },
  {
   "cell_type": "code",
   "execution_count": 12,
   "id": "81e857a3",
   "metadata": {},
   "outputs": [
    {
     "ename": "TypeError",
     "evalue": "'<' not supported between instances of 'str' and 'int'",
     "output_type": "error",
     "traceback": [
      "\u001b[0;31m---------------------------------------------------------------------------\u001b[0m",
      "\u001b[0;31mTypeError\u001b[0m                                 Traceback (most recent call last)",
      "Input \u001b[0;32mIn [12]\u001b[0m, in \u001b[0;36m<cell line: 1>\u001b[0;34m()\u001b[0m\n\u001b[0;32m----> 1\u001b[0m \u001b[43mlst1\u001b[49m\u001b[38;5;241;43m.\u001b[39;49m\u001b[43msort\u001b[49m\u001b[43m(\u001b[49m\u001b[43m)\u001b[49m\n\u001b[1;32m      2\u001b[0m \u001b[38;5;28mprint\u001b[39m(lst1)\n",
      "\u001b[0;31mTypeError\u001b[0m: '<' not supported between instances of 'str' and 'int'"
     ]
    }
   ],
   "source": [
    "lst1.sort()\n",
    "print(lst1)"
   ]
  },
  {
   "cell_type": "code",
   "execution_count": 13,
   "id": "35df9128",
   "metadata": {},
   "outputs": [
    {
     "name": "stdout",
     "output_type": "stream",
     "text": [
      "[1, 4, 5, 6, 6]\n"
     ]
    }
   ],
   "source": [
    "lst2=[1,6,5,4,6]\n",
    "lst2.sort()\n",
    "print(lst2)"
   ]
  },
  {
   "cell_type": "code",
   "execution_count": 16,
   "id": "934cd4e0",
   "metadata": {},
   "outputs": [
    {
     "name": "stdout",
     "output_type": "stream",
     "text": [
      "[6, 6, 5, 4, 1]\n"
     ]
    }
   ],
   "source": [
    "lst2.reverse()\n",
    "print(lst2)"
   ]
  },
  {
   "cell_type": "code",
   "execution_count": 17,
   "id": "934dec03",
   "metadata": {},
   "outputs": [
    {
     "name": "stdout",
     "output_type": "stream",
     "text": [
      "('a', 1, 2, 6, 5, 'a')\n"
     ]
    }
   ],
   "source": [
    "tup1=(\"a\", 1, 2, 6, 5, \"a\")\n",
    "print(tup1)"
   ]
  },
  {
   "cell_type": "code",
   "execution_count": 19,
   "id": "5e9840b5",
   "metadata": {},
   "outputs": [
    {
     "name": "stdout",
     "output_type": "stream",
     "text": [
      "{1, 2, '4.0', 4.0, 'b'}\n"
     ]
    }
   ],
   "source": [
    "set1={1,2,\"b\", 4.0, \"4.0\"}\n",
    "print(set1)"
   ]
  },
  {
   "cell_type": "code",
   "execution_count": 20,
   "id": "94417b48",
   "metadata": {},
   "outputs": [
    {
     "name": "stdout",
     "output_type": "stream",
     "text": [
      "Meghana\n"
     ]
    }
   ],
   "source": [
    "dict1={\n",
    "    \"name\":\"Meghana\", \n",
    "    \"marks\": 10,\n",
    "    \"number\":3.0\n",
    "}\n",
    "\n",
    "print(dict1[\"name\"])"
   ]
  },
  {
   "cell_type": "code",
   "execution_count": 22,
   "id": "1e62fbc0",
   "metadata": {},
   "outputs": [
    {
     "name": "stdout",
     "output_type": "stream",
     "text": [
      "b is greater than c, or c is greater than b\n"
     ]
    }
   ],
   "source": [
    "if b==c:\n",
    "    print(\"b and c are equal\")\n",
    "elif b>c or c>b:\n",
    "    print(\"b is greater than c, or c is greater than b\")\n",
    "else:\n",
    "    print(\"b and c aren't equal\")\n",
    "    "
   ]
  },
  {
   "cell_type": "code",
   "execution_count": 23,
   "id": "2aacf95d",
   "metadata": {},
   "outputs": [
    {
     "name": "stdout",
     "output_type": "stream",
     "text": [
      "hello\n",
      "hello\n",
      "hello\n",
      "hello\n",
      "hello\n",
      "hello\n",
      "hello\n",
      "hello\n",
      "hello\n",
      "hello\n",
      "hello\n"
     ]
    }
   ],
   "source": [
    "var=0\n",
    "while var<=10:\n",
    "    print(\"hello\")\n",
    "    var+=1\n",
    "    "
   ]
  },
  {
   "cell_type": "code",
   "execution_count": 25,
   "id": "c09066b3",
   "metadata": {},
   "outputs": [
    {
     "name": "stdout",
     "output_type": "stream",
     "text": [
      "b is greater than c, or c is greater than b\n",
      "b is greater than c, or c is greater than b\n"
     ]
    }
   ],
   "source": [
    "def function1():\n",
    "    if b==c:\n",
    "        print(\"b and c are equal\")\n",
    "    elif b>c or c>b:\n",
    "        print(\"b is greater than c, or c is greater than b\")\n",
    "    else:\n",
    "        print(\"b and c aren't equal\")\n",
    "        \n",
    "function1()\n",
    "function1()"
   ]
  },
  {
   "cell_type": "code",
   "execution_count": null,
   "id": "c389318d",
   "metadata": {},
   "outputs": [],
   "source": []
  }
 ],
 "metadata": {
  "kernelspec": {
   "display_name": "Python 3 (ipykernel)",
   "language": "python",
   "name": "python3"
  },
  "language_info": {
   "codemirror_mode": {
    "name": "ipython",
    "version": 3
   },
   "file_extension": ".py",
   "mimetype": "text/x-python",
   "name": "python",
   "nbconvert_exporter": "python",
   "pygments_lexer": "ipython3",
   "version": "3.9.12"
  }
 },
 "nbformat": 4,
 "nbformat_minor": 5
}

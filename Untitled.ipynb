{
 "cells": [
  {
   "cell_type": "code",
   "execution_count": 3,
   "id": "a4972834",
   "metadata": {},
   "outputs": [
    {
     "name": "stdout",
     "output_type": "stream",
     "text": [
      "Enter word:racecar\n",
      "True\n"
     ]
    }
   ],
   "source": [
    "\n",
    "userinput_string = input(\"Enter word:\")\n",
    "\n",
    "def palindrome_checker(userinput_string):\n",
    "    if userinput_string == userinput_string[::-1]:\n",
    "        print(True)\n",
    "    else:\n",
    "        print(False)\n",
    "        \n",
    "palindrome_checker(userinput_string)"
   ]
  },
  {
   "cell_type": "code",
   "execution_count": 3,
   "id": "7b4590ad",
   "metadata": {},
   "outputs": [
    {
     "name": "stdout",
     "output_type": "stream",
     "text": [
      "Enter your first word:hello\n",
      "Enter your second word:goodb\n",
      "hoodb\n"
     ]
    }
   ],
   "source": [
    "string1 = input(\"Enter your first word:\")\n",
    "string2 = input(\"Enter your second word:\")\n",
    "def firstcharacter_switch(string1,string2):\n",
    "    \n",
    "    length1 = len(string1)\n",
    "    length2 = len(string2)\n",
    "    if length1>=length2:\n",
    "     print(string1[0]+string2[1:])\n",
    "    else:\n",
    "     print(string2[0]+ string1[1:])\n",
    "firstcharacter_switch(string1,string2)"
   ]
  },
  {
   "cell_type": "code",
   "execution_count": null,
   "id": "86fa3b62",
   "metadata": {},
   "outputs": [],
   "source": []
  }
 ],
 "metadata": {
  "kernelspec": {
   "display_name": "Python 3 (ipykernel)",
   "language": "python",
   "name": "python3"
  },
  "language_info": {
   "codemirror_mode": {
    "name": "ipython",
    "version": 3
   },
   "file_extension": ".py",
   "mimetype": "text/x-python",
   "name": "python",
   "nbconvert_exporter": "python",
   "pygments_lexer": "ipython3",
   "version": "3.9.12"
  }
 },
 "nbformat": 4,
 "nbformat_minor": 5
}
